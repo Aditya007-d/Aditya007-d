{
  "nbformat": 4,
  "nbformat_minor": 0,
  "metadata": {
    "colab": {
      "provenance": [],
      "authorship_tag": "ABX9TyP0pOQ3Vwh05vL0aaLf2g2J",
      "include_colab_link": true
    },
    "kernelspec": {
      "name": "python3",
      "display_name": "Python 3"
    },
    "language_info": {
      "name": "python"
    }
  },
  "cells": [
    {
      "cell_type": "markdown",
      "metadata": {
        "id": "view-in-github",
        "colab_type": "text"
      },
      "source": [
        "<a href=\"https://colab.research.google.com/github/Aditya007-d/Aditya007-d/blob/main/LinearRegression.ipynb\" target=\"_parent\"><img src=\"https://colab.research.google.com/assets/colab-badge.svg\" alt=\"Open In Colab\"/></a>"
      ]
    },
    {
      "cell_type": "code",
      "execution_count": 2,
      "metadata": {
        "id": "06TuB0Yh7__I"
      },
      "outputs": [],
      "source": [
        "import numpy as np\n",
        "import pandas as pd\n",
        "from sklearn.linear_model import LinearRegression\n",
        "from sklearn.metrics import accuracy_score\n",
        "from sklearn.metrics import mean_squared_error\n",
        "from sklearn.neighbors import KNeighborsClassifier\n",
        "from sklearn.model_selection import train_test_split"
      ]
    },
    {
      "cell_type": "code",
      "source": [
        "df = pd.read_csv('/content/sample_data/abalone.data')\n",
        "df.columns = ['sex', 'length', 'diameter', 'height', 'whole_weight', 'shucked_weight', 'viscera_weight', 'shell_weight', 'rings']"
      ],
      "metadata": {
        "id": "0SnCdeOaBVmp"
      },
      "execution_count": 6,
      "outputs": []
    },
    {
      "cell_type": "code",
      "source": [
        "df.head()"
      ],
      "metadata": {
        "colab": {
          "base_uri": "https://localhost:8080/",
          "height": 206
        },
        "id": "uB4B1QQaBnq4",
        "outputId": "d8fffd35-f962-4de8-b528-5c50b64cd72c"
      },
      "execution_count": 7,
      "outputs": [
        {
          "output_type": "execute_result",
          "data": {
            "text/plain": [
              "  sex  length  diameter  height  whole_weight  shucked_weight  viscera_weight  \\\n",
              "0   M   0.350     0.265   0.090        0.2255          0.0995          0.0485   \n",
              "1   F   0.530     0.420   0.135        0.6770          0.2565          0.1415   \n",
              "2   M   0.440     0.365   0.125        0.5160          0.2155          0.1140   \n",
              "3   I   0.330     0.255   0.080        0.2050          0.0895          0.0395   \n",
              "4   I   0.425     0.300   0.095        0.3515          0.1410          0.0775   \n",
              "\n",
              "   shell_weight  rings  \n",
              "0         0.070      7  \n",
              "1         0.210      9  \n",
              "2         0.155     10  \n",
              "3         0.055      7  \n",
              "4         0.120      8  "
            ],
            "text/html": [
              "\n",
              "  <div id=\"df-0d33e41f-f8d2-4ffe-a293-b45b97f897d4\">\n",
              "    <div class=\"colab-df-container\">\n",
              "      <div>\n",
              "<style scoped>\n",
              "    .dataframe tbody tr th:only-of-type {\n",
              "        vertical-align: middle;\n",
              "    }\n",
              "\n",
              "    .dataframe tbody tr th {\n",
              "        vertical-align: top;\n",
              "    }\n",
              "\n",
              "    .dataframe thead th {\n",
              "        text-align: right;\n",
              "    }\n",
              "</style>\n",
              "<table border=\"1\" class=\"dataframe\">\n",
              "  <thead>\n",
              "    <tr style=\"text-align: right;\">\n",
              "      <th></th>\n",
              "      <th>sex</th>\n",
              "      <th>length</th>\n",
              "      <th>diameter</th>\n",
              "      <th>height</th>\n",
              "      <th>whole_weight</th>\n",
              "      <th>shucked_weight</th>\n",
              "      <th>viscera_weight</th>\n",
              "      <th>shell_weight</th>\n",
              "      <th>rings</th>\n",
              "    </tr>\n",
              "  </thead>\n",
              "  <tbody>\n",
              "    <tr>\n",
              "      <th>0</th>\n",
              "      <td>M</td>\n",
              "      <td>0.350</td>\n",
              "      <td>0.265</td>\n",
              "      <td>0.090</td>\n",
              "      <td>0.2255</td>\n",
              "      <td>0.0995</td>\n",
              "      <td>0.0485</td>\n",
              "      <td>0.070</td>\n",
              "      <td>7</td>\n",
              "    </tr>\n",
              "    <tr>\n",
              "      <th>1</th>\n",
              "      <td>F</td>\n",
              "      <td>0.530</td>\n",
              "      <td>0.420</td>\n",
              "      <td>0.135</td>\n",
              "      <td>0.6770</td>\n",
              "      <td>0.2565</td>\n",
              "      <td>0.1415</td>\n",
              "      <td>0.210</td>\n",
              "      <td>9</td>\n",
              "    </tr>\n",
              "    <tr>\n",
              "      <th>2</th>\n",
              "      <td>M</td>\n",
              "      <td>0.440</td>\n",
              "      <td>0.365</td>\n",
              "      <td>0.125</td>\n",
              "      <td>0.5160</td>\n",
              "      <td>0.2155</td>\n",
              "      <td>0.1140</td>\n",
              "      <td>0.155</td>\n",
              "      <td>10</td>\n",
              "    </tr>\n",
              "    <tr>\n",
              "      <th>3</th>\n",
              "      <td>I</td>\n",
              "      <td>0.330</td>\n",
              "      <td>0.255</td>\n",
              "      <td>0.080</td>\n",
              "      <td>0.2050</td>\n",
              "      <td>0.0895</td>\n",
              "      <td>0.0395</td>\n",
              "      <td>0.055</td>\n",
              "      <td>7</td>\n",
              "    </tr>\n",
              "    <tr>\n",
              "      <th>4</th>\n",
              "      <td>I</td>\n",
              "      <td>0.425</td>\n",
              "      <td>0.300</td>\n",
              "      <td>0.095</td>\n",
              "      <td>0.3515</td>\n",
              "      <td>0.1410</td>\n",
              "      <td>0.0775</td>\n",
              "      <td>0.120</td>\n",
              "      <td>8</td>\n",
              "    </tr>\n",
              "  </tbody>\n",
              "</table>\n",
              "</div>\n",
              "      <button class=\"colab-df-convert\" onclick=\"convertToInteractive('df-0d33e41f-f8d2-4ffe-a293-b45b97f897d4')\"\n",
              "              title=\"Convert this dataframe to an interactive table.\"\n",
              "              style=\"display:none;\">\n",
              "        \n",
              "  <svg xmlns=\"http://www.w3.org/2000/svg\" height=\"24px\"viewBox=\"0 0 24 24\"\n",
              "       width=\"24px\">\n",
              "    <path d=\"M0 0h24v24H0V0z\" fill=\"none\"/>\n",
              "    <path d=\"M18.56 5.44l.94 2.06.94-2.06 2.06-.94-2.06-.94-.94-2.06-.94 2.06-2.06.94zm-11 1L8.5 8.5l.94-2.06 2.06-.94-2.06-.94L8.5 2.5l-.94 2.06-2.06.94zm10 10l.94 2.06.94-2.06 2.06-.94-2.06-.94-.94-2.06-.94 2.06-2.06.94z\"/><path d=\"M17.41 7.96l-1.37-1.37c-.4-.4-.92-.59-1.43-.59-.52 0-1.04.2-1.43.59L10.3 9.45l-7.72 7.72c-.78.78-.78 2.05 0 2.83L4 21.41c.39.39.9.59 1.41.59.51 0 1.02-.2 1.41-.59l7.78-7.78 2.81-2.81c.8-.78.8-2.07 0-2.86zM5.41 20L4 18.59l7.72-7.72 1.47 1.35L5.41 20z\"/>\n",
              "  </svg>\n",
              "      </button>\n",
              "      \n",
              "  <style>\n",
              "    .colab-df-container {\n",
              "      display:flex;\n",
              "      flex-wrap:wrap;\n",
              "      gap: 12px;\n",
              "    }\n",
              "\n",
              "    .colab-df-convert {\n",
              "      background-color: #E8F0FE;\n",
              "      border: none;\n",
              "      border-radius: 50%;\n",
              "      cursor: pointer;\n",
              "      display: none;\n",
              "      fill: #1967D2;\n",
              "      height: 32px;\n",
              "      padding: 0 0 0 0;\n",
              "      width: 32px;\n",
              "    }\n",
              "\n",
              "    .colab-df-convert:hover {\n",
              "      background-color: #E2EBFA;\n",
              "      box-shadow: 0px 1px 2px rgba(60, 64, 67, 0.3), 0px 1px 3px 1px rgba(60, 64, 67, 0.15);\n",
              "      fill: #174EA6;\n",
              "    }\n",
              "\n",
              "    [theme=dark] .colab-df-convert {\n",
              "      background-color: #3B4455;\n",
              "      fill: #D2E3FC;\n",
              "    }\n",
              "\n",
              "    [theme=dark] .colab-df-convert:hover {\n",
              "      background-color: #434B5C;\n",
              "      box-shadow: 0px 1px 3px 1px rgba(0, 0, 0, 0.15);\n",
              "      filter: drop-shadow(0px 1px 2px rgba(0, 0, 0, 0.3));\n",
              "      fill: #FFFFFF;\n",
              "    }\n",
              "  </style>\n",
              "\n",
              "      <script>\n",
              "        const buttonEl =\n",
              "          document.querySelector('#df-0d33e41f-f8d2-4ffe-a293-b45b97f897d4 button.colab-df-convert');\n",
              "        buttonEl.style.display =\n",
              "          google.colab.kernel.accessAllowed ? 'block' : 'none';\n",
              "\n",
              "        async function convertToInteractive(key) {\n",
              "          const element = document.querySelector('#df-0d33e41f-f8d2-4ffe-a293-b45b97f897d4');\n",
              "          const dataTable =\n",
              "            await google.colab.kernel.invokeFunction('convertToInteractive',\n",
              "                                                     [key], {});\n",
              "          if (!dataTable) return;\n",
              "\n",
              "          const docLinkHtml = 'Like what you see? Visit the ' +\n",
              "            '<a target=\"_blank\" href=https://colab.research.google.com/notebooks/data_table.ipynb>data table notebook</a>'\n",
              "            + ' to learn more about interactive tables.';\n",
              "          element.innerHTML = '';\n",
              "          dataTable['output_type'] = 'display_data';\n",
              "          await google.colab.output.renderOutput(dataTable, element);\n",
              "          const docLink = document.createElement('div');\n",
              "          docLink.innerHTML = docLinkHtml;\n",
              "          element.appendChild(docLink);\n",
              "        }\n",
              "      </script>\n",
              "    </div>\n",
              "  </div>\n",
              "  "
            ]
          },
          "metadata": {},
          "execution_count": 7
        }
      ]
    },
    {
      "cell_type": "code",
      "source": [
        "df['sex'] = pd.factorize(df['sex'])[0]"
      ],
      "metadata": {
        "id": "xwZ2V7yPB9Pe"
      },
      "execution_count": 8,
      "outputs": []
    },
    {
      "cell_type": "code",
      "source": [
        "x_train, x_test, y_train, y_test = train_test_split(df.drop(\"rings\", axis = 1), df[\"rings\"], test_size = 0.2, random_state = 42)"
      ],
      "metadata": {
        "id": "nkSp2k05EzU4"
      },
      "execution_count": 9,
      "outputs": []
    },
    {
      "cell_type": "code",
      "source": [
        "knn = KNeighborsClassifier(n_neighbors=5)\n",
        "knn.fit(x_train, y_train)"
      ],
      "metadata": {
        "colab": {
          "base_uri": "https://localhost:8080/",
          "height": 51
        },
        "id": "iktxr9ghFVQu",
        "outputId": "553964ee-0c42-4a14-fba3-9e4e9cce8632"
      },
      "execution_count": 10,
      "outputs": [
        {
          "output_type": "execute_result",
          "data": {
            "text/plain": [
              "KNeighborsClassifier()"
            ],
            "text/html": [
              "<style>#sk-container-id-1 {color: black;background-color: white;}#sk-container-id-1 pre{padding: 0;}#sk-container-id-1 div.sk-toggleable {background-color: white;}#sk-container-id-1 label.sk-toggleable__label {cursor: pointer;display: block;width: 100%;margin-bottom: 0;padding: 0.3em;box-sizing: border-box;text-align: center;}#sk-container-id-1 label.sk-toggleable__label-arrow:before {content: \"▸\";float: left;margin-right: 0.25em;color: #696969;}#sk-container-id-1 label.sk-toggleable__label-arrow:hover:before {color: black;}#sk-container-id-1 div.sk-estimator:hover label.sk-toggleable__label-arrow:before {color: black;}#sk-container-id-1 div.sk-toggleable__content {max-height: 0;max-width: 0;overflow: hidden;text-align: left;background-color: #f0f8ff;}#sk-container-id-1 div.sk-toggleable__content pre {margin: 0.2em;color: black;border-radius: 0.25em;background-color: #f0f8ff;}#sk-container-id-1 input.sk-toggleable__control:checked~div.sk-toggleable__content {max-height: 200px;max-width: 100%;overflow: auto;}#sk-container-id-1 input.sk-toggleable__control:checked~label.sk-toggleable__label-arrow:before {content: \"▾\";}#sk-container-id-1 div.sk-estimator input.sk-toggleable__control:checked~label.sk-toggleable__label {background-color: #d4ebff;}#sk-container-id-1 div.sk-label input.sk-toggleable__control:checked~label.sk-toggleable__label {background-color: #d4ebff;}#sk-container-id-1 input.sk-hidden--visually {border: 0;clip: rect(1px 1px 1px 1px);clip: rect(1px, 1px, 1px, 1px);height: 1px;margin: -1px;overflow: hidden;padding: 0;position: absolute;width: 1px;}#sk-container-id-1 div.sk-estimator {font-family: monospace;background-color: #f0f8ff;border: 1px dotted black;border-radius: 0.25em;box-sizing: border-box;margin-bottom: 0.5em;}#sk-container-id-1 div.sk-estimator:hover {background-color: #d4ebff;}#sk-container-id-1 div.sk-parallel-item::after {content: \"\";width: 100%;border-bottom: 1px solid gray;flex-grow: 1;}#sk-container-id-1 div.sk-label:hover label.sk-toggleable__label {background-color: #d4ebff;}#sk-container-id-1 div.sk-serial::before {content: \"\";position: absolute;border-left: 1px solid gray;box-sizing: border-box;top: 0;bottom: 0;left: 50%;z-index: 0;}#sk-container-id-1 div.sk-serial {display: flex;flex-direction: column;align-items: center;background-color: white;padding-right: 0.2em;padding-left: 0.2em;position: relative;}#sk-container-id-1 div.sk-item {position: relative;z-index: 1;}#sk-container-id-1 div.sk-parallel {display: flex;align-items: stretch;justify-content: center;background-color: white;position: relative;}#sk-container-id-1 div.sk-item::before, #sk-container-id-1 div.sk-parallel-item::before {content: \"\";position: absolute;border-left: 1px solid gray;box-sizing: border-box;top: 0;bottom: 0;left: 50%;z-index: -1;}#sk-container-id-1 div.sk-parallel-item {display: flex;flex-direction: column;z-index: 1;position: relative;background-color: white;}#sk-container-id-1 div.sk-parallel-item:first-child::after {align-self: flex-end;width: 50%;}#sk-container-id-1 div.sk-parallel-item:last-child::after {align-self: flex-start;width: 50%;}#sk-container-id-1 div.sk-parallel-item:only-child::after {width: 0;}#sk-container-id-1 div.sk-dashed-wrapped {border: 1px dashed gray;margin: 0 0.4em 0.5em 0.4em;box-sizing: border-box;padding-bottom: 0.4em;background-color: white;}#sk-container-id-1 div.sk-label label {font-family: monospace;font-weight: bold;display: inline-block;line-height: 1.2em;}#sk-container-id-1 div.sk-label-container {text-align: center;}#sk-container-id-1 div.sk-container {/* jupyter's `normalize.less` sets `[hidden] { display: none; }` but bootstrap.min.css set `[hidden] { display: none !important; }` so we also need the `!important` here to be able to override the default hidden behavior on the sphinx rendered scikit-learn.org. See: https://github.com/scikit-learn/scikit-learn/issues/21755 */display: inline-block !important;position: relative;}#sk-container-id-1 div.sk-text-repr-fallback {display: none;}</style><div id=\"sk-container-id-1\" class=\"sk-top-container\"><div class=\"sk-text-repr-fallback\"><pre>KNeighborsClassifier()</pre><b>In a Jupyter environment, please rerun this cell to show the HTML representation or trust the notebook. <br />On GitHub, the HTML representation is unable to render, please try loading this page with nbviewer.org.</b></div><div class=\"sk-container\" hidden><div class=\"sk-item\"><div class=\"sk-estimator sk-toggleable\"><input class=\"sk-toggleable__control sk-hidden--visually\" id=\"sk-estimator-id-1\" type=\"checkbox\" checked><label for=\"sk-estimator-id-1\" class=\"sk-toggleable__label sk-toggleable__label-arrow\">KNeighborsClassifier</label><div class=\"sk-toggleable__content\"><pre>KNeighborsClassifier()</pre></div></div></div></div></div>"
            ]
          },
          "metadata": {},
          "execution_count": 10
        }
      ]
    },
    {
      "cell_type": "code",
      "source": [
        "y_pred = knn.predict(x_test)\n",
        "print(\"No. of rings :\", y_pred)"
      ],
      "metadata": {
        "colab": {
          "base_uri": "https://localhost:8080/"
        },
        "id": "Sawz10oEFtyI",
        "outputId": "1db83e5d-a9e9-4b5c-e0d9-d15f85a5f5fd"
      },
      "execution_count": 11,
      "outputs": [
        {
          "output_type": "stream",
          "name": "stdout",
          "text": [
            "No. of rings : [10  9 10  9 17 11 15  7  7 10  7  5  8  8  9 11  9 11 11  8 12 11  9  9\n",
            " 10  7  9  9  8  7  9  9  7  5  7  8  5  4  8  6 11 14 11  7 11 11 10  8\n",
            "  7  9  7  9  9 10  5  8 10 17 10  9  9 10  9  6  7 10  5  6  8  7 12 10\n",
            "  9  7 11  8  6 11 11  8 11  9 10  8  7 10 11  9 11 11  9 10 11 11 11  9\n",
            "  6  9  9  6 13 10 10 11  9  8 10  9  9 10 15  8  9  9  7  5 14  7  9  9\n",
            "  9  8  9  9  7 17  9 10  8  9  9 10 11  4  4 13  8 11  7  8  8  8 11  9\n",
            "  9 11  9  6  7  8  8 11 10 10  9  9 12  7  7 11  8 12  9  9  6 10 13  9\n",
            "  9 10  9 11 15 12  6  9  9  8 10  9 10  6  6  9  7 11  8 10  9  4  7 10\n",
            " 15 12 10  7  9 11  9 11  8  7  8 11  6  9  9  8  8 10  7  7 10  8 11  9\n",
            "  9  7  8 11  9  8 10 11 10  7  7 10 10  8  5 11  9 12  7 12  8  7  5 11\n",
            " 10 11  9  6  8  7  9  6  7  7  6 11  8  7  9 11 10  5 11 14 10  7  9  9\n",
            "  9  6  7 10  9  7  9  9  6 11  8  9 12  7  9  7  9 14 12  8  6  8 10 10\n",
            "  9 10  9  5 10 12 10 10  4  8  7 12 14  7  6 11 11  7  6  7  5  8 12  7\n",
            "  7  9 11  7  4 10 10 10  9  9  6  8  9  6  9 10 14 12  7  9  6  9  8  9\n",
            "  9 11  9 11 10  8 11  9  7 10 12 10  9 11 11  9  9  8 10  9  7 10  5 10\n",
            "  9  8 10  8 11  8  9  4  9  8 13 10  7  6 10  9  5  8  7  9  9  8  9  4\n",
            " 11  7 10 10 11 10 14  5 10  9  7  8  8 12 11  8 10  6  9  8  7 11  9  7\n",
            "  9  7 15 14  7 10 12  5  4 12  8  9  8 10 12  9  8  8  5  9 10  8 10  3\n",
            " 10  9 11  6 13  4  7  9 12  9 12  9 10 10 10  9 11 11  7 10  5  7  8 10\n",
            " 11  8 10  7 10 10  9  9  7  6 10  9  7  9  9 11  8 10  9  8 12  9  7  7\n",
            "  8  9  8  8 13  9 10  9  9  6  5 11 12  6 14  8  8 10  5 13  8  9  9  9\n",
            " 14  8  6 10 11  8  7 10  8  9 10  8  7 10 10 10  8  6  9  9  6  7  9 10\n",
            " 10  9  9  9  3  9 10  8 10 11 10 10  7  5  8  8  4  7  8  9  9 10  7 10\n",
            " 10 11 13  7 10  6  7  6  9  8  5  8  8  9  9  9  6  9  9  8 11  8  8 11\n",
            "  9 16  8 15  8  7  5  7  9  5  7 10  9  7 10  6 10  9  4  9  6  9  7 10\n",
            "  5  6 10 10  8  7  7  6 10  8  7 10  4 13 10 11  9 11  7 10 12  8 11  7\n",
            "  7 11 11  9  9 11  7  9 11 10 11 11  8 11  6 11 10  6  8  9 11  8  9  9\n",
            " 10 12  5  6  5 10 10 11  6  6 10 12 12  8 10 11  9 10 13  8  3  8  7  8\n",
            "  8  8 11 12  9  7 10 10 11 11  5  7  9  7 10  7  7 10  8 10 10 10  6  5\n",
            " 10  7 10  8  7 10  8 11  9 11  6  9  8  5  9 17  8  5  4  8 10  9 10 10\n",
            " 10  8  8  8  9 10 17 10  6  6  9  8 10 10  9  4 12 10 10  8 11 11  7 13\n",
            " 18 11  5 10  7 10  6  9  9  9 11  8 11  6 10  9 12  9 10 10 14  9  8 11\n",
            "  7  7  8  5 15  7 10  7  6  6 13 10  9  7 10  7  9  9  9  8  6  9  4  6\n",
            "  8  8 10 11  7  9 10 13 11  6  8  9  9 10  8 10 10 11 11 10 13  5 10  9\n",
            " 10  9  8  7 10  9 10  9 11  6  9  6  8 13 12  7  9  9  8  7]\n"
          ]
        }
      ]
    },
    {
      "cell_type": "code",
      "source": [
        "accuracy = accuracy_score(y_test, y_pred)\n",
        "print(\"Accuracy :\", accuracy)"
      ],
      "metadata": {
        "colab": {
          "base_uri": "https://localhost:8080/"
        },
        "id": "IPd0OOaKF6Kj",
        "outputId": "cddc773c-160a-479e-8e65-c42a26dd3e40"
      },
      "execution_count": 14,
      "outputs": [
        {
          "output_type": "stream",
          "name": "stdout",
          "text": [
            "Accuracy : 0.22488038277511962\n"
          ]
        }
      ]
    },
    {
      "cell_type": "code",
      "source": [
        "a = df.drop(\"rings\", axis = 1)\n",
        "b = df[\"rings\"] + 1.5"
      ],
      "metadata": {
        "id": "6GFeKi3iHDoz"
      },
      "execution_count": 16,
      "outputs": []
    },
    {
      "cell_type": "code",
      "source": [
        "train_size = int(0.8 * len(df))\n",
        "a_train, a_test = a[:train_size], a[train_size:]\n",
        "b_train, b_test = b[:train_size], b[train_size:]"
      ],
      "metadata": {
        "id": "8YT8LdlEHYNV"
      },
      "execution_count": 18,
      "outputs": []
    },
    {
      "cell_type": "code",
      "source": [
        "model = LinearRegression()\n",
        "model.fit(a_train, b_train)"
      ],
      "metadata": {
        "colab": {
          "base_uri": "https://localhost:8080/",
          "height": 74
        },
        "id": "5IymLDAkH6bp",
        "outputId": "494aa39a-1874-4a7c-e596-bc1b3353be7e"
      },
      "execution_count": 19,
      "outputs": [
        {
          "output_type": "execute_result",
          "data": {
            "text/plain": [
              "LinearRegression()"
            ],
            "text/html": [
              "<style>#sk-container-id-2 {color: black;background-color: white;}#sk-container-id-2 pre{padding: 0;}#sk-container-id-2 div.sk-toggleable {background-color: white;}#sk-container-id-2 label.sk-toggleable__label {cursor: pointer;display: block;width: 100%;margin-bottom: 0;padding: 0.3em;box-sizing: border-box;text-align: center;}#sk-container-id-2 label.sk-toggleable__label-arrow:before {content: \"▸\";float: left;margin-right: 0.25em;color: #696969;}#sk-container-id-2 label.sk-toggleable__label-arrow:hover:before {color: black;}#sk-container-id-2 div.sk-estimator:hover label.sk-toggleable__label-arrow:before {color: black;}#sk-container-id-2 div.sk-toggleable__content {max-height: 0;max-width: 0;overflow: hidden;text-align: left;background-color: #f0f8ff;}#sk-container-id-2 div.sk-toggleable__content pre {margin: 0.2em;color: black;border-radius: 0.25em;background-color: #f0f8ff;}#sk-container-id-2 input.sk-toggleable__control:checked~div.sk-toggleable__content {max-height: 200px;max-width: 100%;overflow: auto;}#sk-container-id-2 input.sk-toggleable__control:checked~label.sk-toggleable__label-arrow:before {content: \"▾\";}#sk-container-id-2 div.sk-estimator input.sk-toggleable__control:checked~label.sk-toggleable__label {background-color: #d4ebff;}#sk-container-id-2 div.sk-label input.sk-toggleable__control:checked~label.sk-toggleable__label {background-color: #d4ebff;}#sk-container-id-2 input.sk-hidden--visually {border: 0;clip: rect(1px 1px 1px 1px);clip: rect(1px, 1px, 1px, 1px);height: 1px;margin: -1px;overflow: hidden;padding: 0;position: absolute;width: 1px;}#sk-container-id-2 div.sk-estimator {font-family: monospace;background-color: #f0f8ff;border: 1px dotted black;border-radius: 0.25em;box-sizing: border-box;margin-bottom: 0.5em;}#sk-container-id-2 div.sk-estimator:hover {background-color: #d4ebff;}#sk-container-id-2 div.sk-parallel-item::after {content: \"\";width: 100%;border-bottom: 1px solid gray;flex-grow: 1;}#sk-container-id-2 div.sk-label:hover label.sk-toggleable__label {background-color: #d4ebff;}#sk-container-id-2 div.sk-serial::before {content: \"\";position: absolute;border-left: 1px solid gray;box-sizing: border-box;top: 0;bottom: 0;left: 50%;z-index: 0;}#sk-container-id-2 div.sk-serial {display: flex;flex-direction: column;align-items: center;background-color: white;padding-right: 0.2em;padding-left: 0.2em;position: relative;}#sk-container-id-2 div.sk-item {position: relative;z-index: 1;}#sk-container-id-2 div.sk-parallel {display: flex;align-items: stretch;justify-content: center;background-color: white;position: relative;}#sk-container-id-2 div.sk-item::before, #sk-container-id-2 div.sk-parallel-item::before {content: \"\";position: absolute;border-left: 1px solid gray;box-sizing: border-box;top: 0;bottom: 0;left: 50%;z-index: -1;}#sk-container-id-2 div.sk-parallel-item {display: flex;flex-direction: column;z-index: 1;position: relative;background-color: white;}#sk-container-id-2 div.sk-parallel-item:first-child::after {align-self: flex-end;width: 50%;}#sk-container-id-2 div.sk-parallel-item:last-child::after {align-self: flex-start;width: 50%;}#sk-container-id-2 div.sk-parallel-item:only-child::after {width: 0;}#sk-container-id-2 div.sk-dashed-wrapped {border: 1px dashed gray;margin: 0 0.4em 0.5em 0.4em;box-sizing: border-box;padding-bottom: 0.4em;background-color: white;}#sk-container-id-2 div.sk-label label {font-family: monospace;font-weight: bold;display: inline-block;line-height: 1.2em;}#sk-container-id-2 div.sk-label-container {text-align: center;}#sk-container-id-2 div.sk-container {/* jupyter's `normalize.less` sets `[hidden] { display: none; }` but bootstrap.min.css set `[hidden] { display: none !important; }` so we also need the `!important` here to be able to override the default hidden behavior on the sphinx rendered scikit-learn.org. See: https://github.com/scikit-learn/scikit-learn/issues/21755 */display: inline-block !important;position: relative;}#sk-container-id-2 div.sk-text-repr-fallback {display: none;}</style><div id=\"sk-container-id-2\" class=\"sk-top-container\"><div class=\"sk-text-repr-fallback\"><pre>LinearRegression()</pre><b>In a Jupyter environment, please rerun this cell to show the HTML representation or trust the notebook. <br />On GitHub, the HTML representation is unable to render, please try loading this page with nbviewer.org.</b></div><div class=\"sk-container\" hidden><div class=\"sk-item\"><div class=\"sk-estimator sk-toggleable\"><input class=\"sk-toggleable__control sk-hidden--visually\" id=\"sk-estimator-id-2\" type=\"checkbox\" checked><label for=\"sk-estimator-id-2\" class=\"sk-toggleable__label sk-toggleable__label-arrow\">LinearRegression</label><div class=\"sk-toggleable__content\"><pre>LinearRegression()</pre></div></div></div></div></div>"
            ]
          },
          "metadata": {},
          "execution_count": 19
        }
      ]
    },
    {
      "cell_type": "code",
      "source": [
        "b_pred = model.predict(a_test)\n",
        "print(\"age :\", b_pred)"
      ],
      "metadata": {
        "colab": {
          "base_uri": "https://localhost:8080/"
        },
        "id": "JDrf0_kSIIvW",
        "outputId": "4eb012b5-6b08-4706-f83f-4e17ebff4b79"
      },
      "execution_count": 20,
      "outputs": [
        {
          "output_type": "stream",
          "name": "stdout",
          "text": [
            "age : [12.09538884 10.50542303 11.03963171 12.31894185 11.96631372 13.16202052\n",
            " 10.49686345  9.48548771 11.16445139 11.63478575 11.51956215 11.46437087\n",
            " 10.92468504 10.02107655 10.19225451  8.91443748  8.82659159  8.61951364\n",
            " 14.70019509 13.91628622 10.1575321   9.93553123 10.85189607  9.19669365\n",
            "  9.9192392   8.43743677 15.72460689 13.42888281 15.51472225 11.10333777\n",
            "  9.13911776 11.73128894 14.35721157 10.59888417  9.94733052  8.27405277\n",
            "  7.62549233  9.27925143  7.78266793  6.47165006 14.6029539  11.84953069\n",
            " 11.37950141  8.32612106 10.09204434 12.62197187 13.94603703 11.67969239\n",
            " 14.1475392  11.29787502 14.01009898 14.99575075 13.86804711 13.90681333\n",
            " 16.98583736 15.62803141 12.29949659  9.71330045 10.25984017 13.94441033\n",
            " 13.99133464 13.18674875  9.22419109  9.92493593  8.10304058  8.74269004\n",
            "  8.39839986  9.15195761  9.27838116  8.90250527  8.85787986 10.42946161\n",
            " 10.78666479 10.16092168 13.47877625 10.54191624 11.45177404 14.19862593\n",
            " 11.39028791 14.61419344 11.93479703 11.76224988 11.83024293 14.37585882\n",
            " 13.86915937 13.03312843 12.6347018   7.19344935  7.64311675  8.10187836\n",
            "  8.81082015  8.63972141  8.76446579  8.26950854  8.88472519  8.89116468\n",
            "  8.78930402  8.99638246  9.84864654  9.73246738 10.2938929   9.56225209\n",
            " 10.0052126  10.56986518 10.79096274  9.59031005 10.49981549 10.70626849\n",
            " 10.29355403 11.30364639 13.07042663 10.59362317 10.50122035 11.75248691\n",
            " 12.89912369 11.50555488 13.00076125 11.83429968 12.46073926 12.13131211\n",
            " 13.38790931 13.89709047 15.02978825 12.69343103 13.49978743 12.4529354\n",
            " 14.23464556 12.78745855 16.2442555  16.32160054 11.20430293  6.46199658\n",
            "  6.77921245  8.07767196  9.11544505  9.10943003  8.85449207  8.96853237\n",
            "  8.78342907  9.2623283   8.80607196 10.94883762 10.45390547 10.49964807\n",
            "  7.71936528 12.28371067  9.8265849  10.24557331 11.35296641 11.80044189\n",
            " 11.83495342 11.38079386 11.57294604 10.62335903 10.68602126 11.39971652\n",
            " 10.08262829 12.55216788 11.85956565 11.11887612 13.00407875 12.67484027\n",
            " 13.72955153 11.89883126 13.2378202  10.59068033 12.0487058  11.74406503\n",
            " 11.72361093 11.79374515 11.56307314 11.66911365 13.95826733 12.13152735\n",
            " 13.10938583 13.7487554  10.99714163  7.26531875 11.96388466 12.64091936\n",
            "  6.79868341  7.37220055  7.65682666  8.06401579  8.02226305  8.26167264\n",
            "  8.62098215  8.50341939  8.38310356  8.4423781   8.48636049  8.97133492\n",
            "  9.06704439  8.96306734  8.4931516   9.55484264  9.6826451  10.38973748\n",
            "  9.87369908 10.21572866  9.32904433 10.85321097  9.37752327  9.96031409\n",
            " 10.08602489  9.5516487   9.90235528 10.0988005  10.4397319  10.85922375\n",
            " 10.43108131  9.61960096 10.73748174 11.11199842 12.42513359 11.08030296\n",
            " 10.59867818 10.7573283  12.59283371 10.28059353 11.01322625 10.58479083\n",
            " 12.56279194  9.28313108 12.99125515 12.86434659 11.78497619 11.24545115\n",
            " 10.97474736 11.66223132 12.20086906 11.66376279 12.28038959 12.25893527\n",
            " 12.61396463 14.16565958 13.90417025 12.24888289 12.3088204  12.22809503\n",
            " 11.38156354 11.7103694  12.82259357 13.90175417 11.08222227 12.47760897\n",
            " 11.93288722 11.80888501 13.46632504 13.59276117 12.00233858 12.76612878\n",
            " 14.86852759 11.58652078 12.26226103 11.73484943 14.39245463 13.55038037\n",
            " 11.7833455   6.35664286  8.51165625  8.63464987  9.87639084  9.57112146\n",
            "  8.93069454  9.79105706 10.03660904 11.31630678  9.50633663 11.56684543\n",
            " 11.97758321 14.76858798 10.4003136  13.27979449 10.63829364 13.23468498\n",
            " 10.72604135 13.04764798 12.62385426 11.74221698 11.33392709 12.33431987\n",
            " 12.61217277 12.15407912 13.92201166 14.95135389 10.56139433 14.37531306\n",
            "  7.54723765  7.94208163  7.8560598   7.96181428  7.80668153  8.54302368\n",
            "  9.00618759  8.66093811  9.66108979 10.34857401  9.2795732  10.19647412\n",
            " 10.8758394   9.68624676 10.33026944 10.29124304  9.75239271 10.07548369\n",
            " 10.81717031 10.86588106 11.71470031 10.59917341 10.26258772 10.74252114\n",
            "  9.75232994 11.6550928  11.32551323 10.50622864 11.1991343  12.04341932\n",
            " 11.29315577 11.24724166 11.06777853 11.77406383 10.60885518 11.46562356\n",
            "  9.65840218 10.05802255 12.30908927 12.243627   12.32886283 12.8511784\n",
            " 11.67562924 10.38763264 12.26837357 11.47577225 13.19360888 12.33105913\n",
            " 13.7564872  14.22545501 11.66296698 12.99229668 12.07963042 10.8974135\n",
            " 14.74373879 11.9369465  12.62228384 11.79530428 11.82327159 12.35107375\n",
            " 14.08125284 14.72007731 14.30512796 13.19747884 12.84428241 12.45600244\n",
            " 13.27370641 13.15485945 14.72195211 13.39409894 14.14000147 13.55082094\n",
            " 14.91243788 12.44943026 12.62287001 13.90337142 13.75975395 12.29329216\n",
            " 10.06904808 13.98822466 12.86037456 14.89533327 14.29337398 14.39525847\n",
            "  7.71987099 11.93568111 13.45379045  6.68711861  8.945057    8.47355056\n",
            "  8.02859031  9.21155802 10.37143428  8.5885047  10.66252196 10.86723432\n",
            " 10.71655642 11.26547211 11.4662515  10.80366086 10.19377987  8.91656003\n",
            " 11.55112584  8.9043859  11.05866342 13.53157837 12.13408269 12.19498849\n",
            " 11.25818029 13.42111121 10.89215762 10.6653238  13.67300796 12.84556116\n",
            " 15.1255615   7.63517638  7.67256055  8.82740589  9.23738419  9.19565821\n",
            " 10.1595703  10.83296739  9.31163665 10.22180691 10.07626699 10.20404118\n",
            " 10.52327735 10.72769094 10.5034157  11.45770849 13.24859246 12.34672066\n",
            " 11.63584491 10.61954074 11.4448107  11.26483456 12.43407077 12.72799354\n",
            " 13.72420128 13.56840322 11.32757556 11.35111783 11.75520641 10.82991007\n",
            " 13.94090143 11.32334977 13.1413537  11.52497915 12.62425049 10.49490967\n",
            " 12.4786846  13.35483745 11.09809537 13.17798979 11.39707028 12.06613252\n",
            " 13.22205498 12.49271977 15.04226296 12.5437473  13.02159415 13.886842\n",
            " 13.43301854 14.6153067  15.15598544 13.16731699 15.71042711 14.62445673\n",
            " 17.54972432 15.37920889 14.71479359 18.8441436   6.68952668  8.10059901\n",
            "  7.62918711  8.51703946  9.4831479   8.95311642  9.08286572 11.03754781\n",
            " 11.1630168  10.85697961 11.52916675 13.45059693  8.57622974  9.96960332\n",
            "  9.14819177 10.04625694 10.58039285 11.49981272 11.20123398 12.90114162\n",
            " 13.63226229 13.88521514 11.18979563 11.52888397 14.51284639 14.66196168\n",
            " 19.01818905 11.50680074 15.44825957 12.77257727 13.74660872 11.62436369\n",
            " 12.04549705  9.57913242 11.20336445 10.44646058  6.00275871  8.31809289\n",
            " 10.66003792 11.02760238 12.1506646  13.37568166 12.48431862 14.90655073\n",
            " 11.0761145   8.49753573 10.94282032 15.06328639  9.64535377  9.8699409\n",
            " 14.70742904 13.39258132 11.18547105 13.35499773 10.75826328  8.49807982\n",
            " 17.67239296 14.9117508  12.2741631  14.17228658 17.57176223 11.19149626\n",
            " 15.80252308  8.09076774 13.85686924 12.12072562 11.415236   10.89766365\n",
            " 11.96415713 13.05915047 10.3846064  12.03435904  8.30599264 12.65796922\n",
            "  8.94948005 15.69610509 15.34009124 11.33981222 11.69598333  9.11656748\n",
            " 12.16069788 16.57704692 13.00044483  7.5440553   9.52044347 11.02434271\n",
            " 11.15234862 10.6194389  15.99490848 11.71073988 15.10399163 14.3423426\n",
            " 11.16384016 11.79285976 14.70192997 17.23889343 13.74799617 13.17349944\n",
            "  6.07839642 10.67281171 11.68912092  6.07121758 15.26879526 15.50191558\n",
            "  9.59717272  8.03211536 10.90061933 11.09014064 10.53218987 11.73622814\n",
            "  9.13294565 11.22674226 11.05657385 12.9786455  11.323239   12.34258\n",
            " 13.19903368 14.01459041 12.69023841  9.08745316  9.87645639 12.552228\n",
            "  9.69895548 12.6549214  10.53423283 11.68105567 10.89837067 17.42114371\n",
            " 15.71298749 15.40373678 13.70722231 12.14822661  7.23214391  7.42832144\n",
            " 13.53166462 12.67169623 14.18721534  9.17107369 12.76888503 11.31813837\n",
            " 14.443393   11.26738934 16.00778986 15.56782885  7.22604226 13.76004913\n",
            " 12.56728735 12.35144988 13.55805813 13.9163988  13.04537793  7.92217915\n",
            " 10.57700556  9.89319981 10.4362682  12.01975586 11.19853014 14.27744014\n",
            " 13.8478251  14.15436781 10.16355903 12.66296894  7.39688484  7.3027933\n",
            "  7.76565933  7.77994517  7.99850534  8.9696778   8.0773068   8.91873557\n",
            "  8.81765754  9.60599296  9.07712275  8.81399125 10.03589618 10.16117189\n",
            "  9.85869306 11.43870384 10.54801958  9.27283989 12.2879401  11.99209428\n",
            " 11.93532144 11.4144396  13.12952809 12.86708856 16.9575482  12.84191857\n",
            " 14.64781604 14.13155245 13.46932995 17.48095672 16.47296094  6.55556093\n",
            "  6.89680684 10.00003926  8.50038503  8.20782965  8.53097256  9.23743878\n",
            "  8.03939429 10.05061178  9.77444829 11.30072071 10.82751168 11.87849642\n",
            " 10.69055035 11.60728079 10.68185661  9.78038548 12.05416102 10.89150967\n",
            " 12.70819929 12.20960947  9.09561385 12.34314089 10.97673476 10.97682215\n",
            " 10.90106696 12.92860293 14.90079684 12.99711483  7.59777631  8.17097855\n",
            "  8.30526961  8.77584126  8.44046053  9.45593751  9.76873672  9.20577595\n",
            "  8.28599846  9.32170226 10.96200342 10.8497815  11.3714236  10.29721874\n",
            " 10.62734783 11.64819573 11.28971375 11.65165751 10.08399775 10.89625781\n",
            " 12.12814679 11.42785188 12.55551793 13.18920794 12.21620709 11.75064185\n",
            " 13.56127236 12.65053742 13.11206685 15.13145048 13.16731137 13.0981513\n",
            " 12.52590028 15.42552728 13.67143526 13.29771227 10.18901794  9.81117025\n",
            " 12.96686794 11.46150685 13.28175788 10.59939811  8.70049876  8.99632881\n",
            "  9.3180163   9.40445839  9.58308753  9.43327252 10.42644218 10.00857817\n",
            " 11.3466177  10.50359367 11.63571188 12.41320863 10.65753209 10.93488772\n",
            " 10.54238088 10.6446304  12.55875943 10.90095111 11.73888896 12.15443071\n",
            " 11.19140217 12.36345852 11.20464663 13.01072451 10.48680259 13.20723068\n",
            " 12.45186007 12.06353297 13.60239523 12.71692235 13.3930337  12.40818006\n",
            " 13.08382208 12.16008364 11.81325691 11.45494063 13.81155498 14.89846423\n",
            " 13.26431759 12.16943745 13.62353258 13.98579724  8.66462049  9.18855596\n",
            " 10.58116355 12.13188763  9.87037112 11.41613546  9.4838838   9.48620858\n",
            " 10.2453457  10.11226573 11.787701   14.17899447  7.65304518  9.77001799\n",
            " 10.30806285 10.61984852 10.59361051 10.93142046 10.43119481 12.43411749\n",
            " 11.18385589 11.83454435 11.69895012 12.82493214 11.28855255 13.48525584\n",
            " 12.0993754  12.04287151 14.03695812 12.36638941 13.31871287 12.80807827\n",
            " 12.96323148 16.18409962 14.07663043 13.514083   12.43605956 14.98845442\n",
            " 19.50007882 12.95013678 14.29220486 14.27044705  7.53595406  8.00894112\n",
            "  7.88575778  8.52023768  9.1130761   8.34635541  9.99216024 10.80602946\n",
            " 10.82862865  9.96184406 12.15432117 12.79952635 12.06842266  9.27514656\n",
            "  8.35625033  8.88556157  8.72184251 10.13659608 10.68619535 10.80216597\n",
            " 10.6241244  12.89079015 11.7848224  12.05636857 11.62732817 12.63092843\n",
            " 11.10514566 12.7822425 ]\n"
          ]
        }
      ]
    },
    {
      "cell_type": "code",
      "source": [
        "mse = mean_squared_error(b_test, b_pred)\n",
        "print(mse)"
      ],
      "metadata": {
        "colab": {
          "base_uri": "https://localhost:8080/"
        },
        "id": "I57MYvfAIV1Q",
        "outputId": "b2963485-dc85-4580-d9bb-665ccb4d87ac"
      },
      "execution_count": 21,
      "outputs": [
        {
          "output_type": "stream",
          "name": "stdout",
          "text": [
            "3.9783316668549453\n"
          ]
        }
      ]
    }
  ]
}