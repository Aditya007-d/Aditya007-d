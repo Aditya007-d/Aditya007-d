{
  "nbformat": 4,
  "nbformat_minor": 0,
  "metadata": {
    "colab": {
      "provenance": [],
      "authorship_tag": "ABX9TyPIXEhoDL7/v1DQLpUnZ8fF",
      "include_colab_link": true
    },
    "kernelspec": {
      "name": "python3",
      "display_name": "Python 3"
    },
    "language_info": {
      "name": "python"
    }
  },
  "cells": [
    {
      "cell_type": "markdown",
      "metadata": {
        "id": "view-in-github",
        "colab_type": "text"
      },
      "source": [
        "<a href=\"https://colab.research.google.com/github/Aditya007-d/Aditya007-d/blob/main/Perceptron.ipynb\" target=\"_parent\"><img src=\"https://colab.research.google.com/assets/colab-badge.svg\" alt=\"Open In Colab\"/></a>"
      ]
    },
    {
      "cell_type": "code",
      "execution_count": 1,
      "metadata": {
        "id": "t8wpooiI3Z4S"
      },
      "outputs": [],
      "source": [
        "import numpy as np\n",
        "import matplotlib.pyplot as plt\n",
        "from sklearn.linear_model import Perceptron"
      ]
    },
    {
      "cell_type": "code",
      "source": [
        "x1 = [1, 1, 0, 0]\n",
        "x2 = [1, 0, 1, 0]"
      ],
      "metadata": {
        "id": "VxKaaONK4aJC"
      },
      "execution_count": 2,
      "outputs": []
    },
    {
      "cell_type": "code",
      "source": [
        "x = [[1,1], [0,0], [1,0], [0,1]]\n",
        "y = [1, 0, 0, 0]"
      ],
      "metadata": {
        "id": "4Z21RSk34kKf"
      },
      "execution_count": 3,
      "outputs": []
    },
    {
      "cell_type": "code",
      "source": [
        "plt.figure(figsize = (3, 3), dpi = 80  )\n",
        "plt.xlabel(x1)\n",
        "plt.ylabel(x2)\n",
        "plt.scatter(x1, x2, c = y)"
      ],
      "metadata": {
        "colab": {
          "base_uri": "https://localhost:8080/",
          "height": 267
        },
        "id": "TXdb5cQ64wSM",
        "outputId": "0beb65ba-632d-4dc7-f51b-bb488147648d"
      },
      "execution_count": 4,
      "outputs": [
        {
          "output_type": "execute_result",
          "data": {
            "text/plain": [
              "<matplotlib.collections.PathCollection at 0x7f4abb078c10>"
            ]
          },
          "metadata": {},
          "execution_count": 4
        },
        {
          "output_type": "display_data",
          "data": {
            "text/plain": [
              "<Figure size 240x240 with 1 Axes>"
            ],
            "image/png": "[encoded data removed]"
          },
          "metadata": {}
        }
      ]
    },
    {
      "cell_type": "code",
      "source": [
        "clf = Perceptron(max_iter = 100).fit(x, y)"
      ],
      "metadata": {
        "id": "PsVj-z6w5Gam"
      },
      "execution_count": 5,
      "outputs": []
    },
    {
      "cell_type": "code",
      "source": [
        "print(\"Model of Classes :\", clf.classes_)\n",
        "print(\"Intercept of decision boundaries :\", clf.intercept_)\n",
        "print(\"Coefficient of decision boundaries :\", clf.coef_)"
      ],
      "metadata": {
        "colab": {
          "base_uri": "https://localhost:8080/"
        },
        "id": "yVfaE2HR5N3V",
        "outputId": "aefc6e02-98bd-474a-eca1-fa4a00875b42"
      },
      "execution_count": 7,
      "outputs": [
        {
          "output_type": "stream",
          "name": "stdout",
          "text": [
            "Model of Classes : [0 1]\n",
            "Intercept of decision boundaries : [-2.]\n",
            "Coefficient of decision boundaries : [[1. 2.]]\n"
          ]
        }
      ]
    },
    {
      "cell_type": "code",
      "source": [
        "ymin, ymax = -1, 2\n",
        "w = clf.coef_[0]\n",
        "a = -w[0] / w[1]\n",
        "xx = np.linspace(ymin, ymax)\n",
        "yy = a * xx - (clf.intercept_[0] / w[1])"
      ],
      "metadata": {
        "id": "TmG_01jA5toQ"
      },
      "execution_count": 8,
      "outputs": []
    },
    {
      "cell_type": "code",
      "source": [
        "plt.figure(figsize = (4, 4))\n",
        "ax = plt.axes()\n",
        "ax.scatter(x1, x2, c = y)\n",
        "plt.plot(xx, yy, 'k-')\n",
        "ax.set_xlabel('X1')\n",
        "ax.set_ylabel('X2')\n",
        "plt.show()"
      ],
      "metadata": {
        "colab": {
          "base_uri": "https://localhost:8080/",
          "height": 388
        },
        "id": "QVaZUc3m6nYi",
        "outputId": "3a2d28ee-3c3c-4ac6-a58b-fc48bf21b770"
      },
      "execution_count": 10,
      "outputs": [
        {
          "output_type": "display_data",
          "data": {
            "text/plain": [
              "<Figure size 400x400 with 1 Axes>"
            ],
            "image/png": "[encoded data removed]"
          },
          "metadata": {}
        }
      ]
    }
  ]
}