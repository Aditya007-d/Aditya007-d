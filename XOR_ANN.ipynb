{
  "nbformat": 4,
  "nbformat_minor": 0,
  "metadata": {
    "colab": {
      "provenance": [],
      "authorship_tag": "ABX9TyOmSO2rp1m6VOyRyib3BiJM",
      "include_colab_link": true
    },
    "kernelspec": {
      "name": "python3",
      "display_name": "Python 3"
    },
    "language_info": {
      "name": "python"
    }
  },
  "cells": [
    {
      "cell_type": "markdown",
      "metadata": {
        "id": "view-in-github",
        "colab_type": "text"
      },
      "source": [
        "<a href=\"https://colab.research.google.com/github/Aditya007-d/Aditya007-d/blob/main/XOR_ANN.ipynb\" target=\"_parent\"><img src=\"https://colab.research.google.com/assets/colab-badge.svg\" alt=\"Open In Colab\"/></a>"
      ]
    },
    {
      "cell_type": "code",
      "execution_count": 31,
      "metadata": {
        "id": "P_j1z6w9GUon"
      },
      "outputs": [],
      "source": [
        "import numpy as np\n",
        "\n",
        "def sigmoid(x):\n",
        "  return 1 / (1 + np.exp(-x))\n",
        "\n",
        "def sigmoid_derivative(x):\n",
        "  return sigmoid(x) * (1 - sigmoid(x))\n",
        "\n",
        "def XOR(inputs):\n",
        "  return np.array([int(inputs[0] != inputs[1])])"
      ]
    },
    {
      "cell_type": "code",
      "source": [
        "input_data = np.array([[0,0], [0,1], [1,0], [1,1], [0,0], [0,1], [1,0], [1,1]])\n",
        "target_data = np.array([[0], [1], [1], [0], [0], [1], [1], [0]])"
      ],
      "metadata": {
        "id": "NEkXC0n9ImbP"
      },
      "execution_count": 32,
      "outputs": []
    },
    {
      "cell_type": "code",
      "source": [
        "input_size = 2\n",
        "hidden_size = 8\n",
        "output_size = 1"
      ],
      "metadata": {
        "id": "QZVUPMq6JOMW"
      },
      "execution_count": 33,
      "outputs": []
    },
    {
      "cell_type": "code",
      "source": [
        "hidden_weights = np.random.uniform(size=(input_size, hidden_size))\n",
        "output_weights = np.random.uniform(size=(hidden_size, output_size))"
      ],
      "metadata": {
        "id": "rxguCPtjJlZ-"
      },
      "execution_count": 34,
      "outputs": []
    },
    {
      "cell_type": "code",
      "source": [
        "learning_rate = 0.1\n",
        "epochs = 10000"
      ],
      "metadata": {
        "id": "Fry_I6H9JVXG"
      },
      "execution_count": 35,
      "outputs": []
    },
    {
      "cell_type": "code",
      "source": [
        "for epoch in range(epochs):\n",
        "\n",
        "  hidden_layer = sigmoid(np.dot(input_data, hidden_weights))\n",
        "  output_layer = sigmoid(np.dot(hidden_layer, output_weights))\n",
        "\n",
        "  output_error = target_data - output_layer\n",
        "  output_delta = output_error * sigmoid_derivative(output_layer)\n",
        "\n",
        "  hidden_error = output_delta.dot(output_weights.T)\n",
        "  hidden_delta = hidden_error * sigmoid_derivative(hidden_layer)\n",
        "\n",
        "  output_weights += hidden_layer.T.dot(output_delta) * learning_rate\n",
        "  hidden_weights += input_data.T.dot(hidden_delta) * learning_rate"
      ],
      "metadata": {
        "id": "t958sGa6JcO_"
      },
      "execution_count": 37,
      "outputs": []
    },
    {
      "cell_type": "code",
      "source": [
        "test_input = np.array([[0,0], [0,1], [1,0], [1,1]])\n",
        "for i in range(len(test_input)):\n",
        "  prediction = sigmoid(np.dot(sigmoid(np.dot(test_input[i], hidden_weights)), output_weights))\n",
        "  print(f\"Input: {test_input[i]} Output: {prediction.round()} Target: {XOR(test_input[i])}\")"
      ],
      "metadata": {
        "colab": {
          "base_uri": "https://localhost:8080/"
        },
        "id": "aSXHYpRJMP79",
        "outputId": "b6c7a897-03a7-4fe4-cdbf-81fc6f2f11ce"
      },
      "execution_count": 38,
      "outputs": [
        {
          "output_type": "stream",
          "name": "stdout",
          "text": [
            "Input: [0 0] Output: [0.] Target: [0]\n",
            "Input: [0 1] Output: [1.] Target: [1]\n",
            "Input: [1 0] Output: [1.] Target: [1]\n",
            "Input: [1 1] Output: [0.] Target: [0]\n"
          ]
        }
      ]
    }
  ]
}