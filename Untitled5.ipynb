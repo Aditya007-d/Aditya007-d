{
  "nbformat": 4,
  "nbformat_minor": 0,
  "metadata": {
    "colab": {
      "provenance": [],
      "authorship_tag": "ABX9TyN4gWUVAJOzSnucaYoBkyr/",
      "include_colab_link": true
    },
    "kernelspec": {
      "name": "python3",
      "display_name": "Python 3"
    },
    "language_info": {
      "name": "python"
    }
  },
  "cells": [
    {
      "cell_type": "markdown",
      "metadata": {
        "id": "view-in-github",
        "colab_type": "text"
      },
      "source": [
        "<a href=\"https://colab.research.google.com/github/Aditya007-d/Aditya007-d/blob/main/Untitled5.ipynb\" target=\"_parent\"><img src=\"https://colab.research.google.com/assets/colab-badge.svg\" alt=\"Open In Colab\"/></a>"
      ]
    },
    {
      "cell_type": "code",
      "execution_count": 1,
      "metadata": {
        "id": "jDPOdYySF_IT"
      },
      "outputs": [],
      "source": [
        "import matplotlib.pyplot as plt\n",
        "import numpy as np"
      ]
    },
    {
      "cell_type": "code",
      "source": [
        "class AF():\n",
        "  def linear(x):\n",
        "    return x\n",
        "  \n",
        "  def sigmoid(x):\n",
        "    return 1/(1 + np.exp(-x))\n",
        "\n",
        "  def tanh(x):\n",
        "    return np.tanh(x)\n",
        "\n",
        "  def RELU(x):\n",
        "    x1 = []\n",
        "    for i in x:\n",
        "      if i<0:\n",
        "        x1.append(0)\n",
        "      else:\n",
        "        x1.append(1)\n",
        "    return x1\n",
        "\n",
        "    def softmax(x):\n",
        "      return np.exp(x)/np.sum(np.exp(x), axis = 0)"
      ],
      "metadata": {
        "id": "w_foDvI9GiFu"
      },
      "execution_count": 3,
      "outputs": []
    },
    {
      "cell_type": "code",
      "source": [
        "while True:\n",
        "  n = int(input(\"Enter\\n 0. Cancel\\n 1. Linear\\n 2. Sigmoid\\n 3. Tanh\\n 4. ReLU\\n 5. Softmax\\n\"))\n",
        "  if n == 0:\n",
        "    break\n",
        "  if n == 1:\n",
        "    x = np.linspace(-10, 10)\n",
        "    plt.plot(x, AF.linear(x))\n",
        "    plt.title(\"Activation Function : Linear\")\n",
        "    plt.show()\n",
        "\n",
        "  elif n == 2:\n",
        "    x = np.linspace(-10, 10)\n",
        "    plt.plot(x, AF.sigmoid(x))\n",
        "    plt.title(\"Activation Function : Sigmoid\")\n",
        "    plt.show()\n",
        "\n",
        "  elif n == 3:\n",
        "    x = plt.linspace(-10, 10)\n",
        "    plt.plot(x, AF.tanh(x))\n",
        "    plt.title(\"Activation Function : Tanh\")\n",
        "    plt.show()\n",
        "\n",
        "  elif n == 4:\n",
        "    x = plt.linspace(-10, 10)\n",
        "    plt.plot(x, AF.RELU(x))\n",
        "    plt.title(\"Activation Function : ReLU\")\n",
        "    plt.show()\n",
        "\n",
        "  elif n == 5:\n",
        "    x = plt.linspace(-10, 10)\n",
        "    plt.plot(x, AF.softmax(x))\n",
        "    plt.title(\"Activation Function : Softmax\")\n",
        "    plt.show() \n"
      ],
      "metadata": {
        "colab": {
          "base_uri": "https://localhost:8080/"
        },
        "id": "TJCDQ3lTH5hu",
        "outputId": "f7f370fd-0e5a-48a2-cf77-746eeb6e8dee"
      },
      "execution_count": 9,
      "outputs": [
        {
          "name": "stdout",
          "output_type": "stream",
          "text": [
            "Enter\n",
            " 0. Cancel\n",
            " 1. Linear\n",
            " 2. Sigmoid\n",
            " 3. Tanh\n",
            " 4. ReLU\n",
            " 5. Softmax\n",
            "0\n"
          ]
        }
      ]
    }
  ]
}