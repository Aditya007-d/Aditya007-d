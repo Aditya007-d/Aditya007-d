{
  "nbformat": 4,
  "nbformat_minor": 0,
  "metadata": {
    "colab": {
      "provenance": [],
      "authorship_tag": "ABX9TyNs6jVKyme+aTKk6Q8F7rll",
      "include_colab_link": true
    },
    "kernelspec": {
      "name": "python3",
      "display_name": "Python 3"
    },
    "language_info": {
      "name": "python"
    }
  },
  "cells": [
    {
      "cell_type": "markdown",
      "metadata": {
        "id": "view-in-github",
        "colab_type": "text"
      },
      "source": [
        "<a href=\"https://colab.research.google.com/github/Aditya007-d/Aditya007-d/blob/main/ART.ipynb\" target=\"_parent\"><img src=\"https://colab.research.google.com/assets/colab-badge.svg\" alt=\"Open In Colab\"/></a>"
      ]
    },
    {
      "cell_type": "code",
      "execution_count": 3,
      "metadata": {
        "colab": {
          "base_uri": "https://localhost:8080/"
        },
        "id": "3YIcH0-BWC5i",
        "outputId": "112e4305-d48d-4ad7-a38d-64bb0bf3ac1a"
      },
      "outputs": [
        {
          "output_type": "stream",
          "name": "stdout",
          "text": [
            "(0, 0.5)\n",
            "(0, 0.5)\n"
          ]
        }
      ],
      "source": [
        "import numpy as np\n",
        "\n",
        "class ART1:\n",
        "  def __init__(self, num_input_nodes, num_categories, vigilance):\n",
        "    self.num_input_nodes = num_input_nodes\n",
        "    self.num_categories = num_categories\n",
        "    self.vigilance = vigilance\n",
        "    self.weights = np.ones((num_categories, num_input_nodes))\n",
        "\n",
        "  def learn(self, input_pattern):\n",
        "    while True:\n",
        "      response = np.dot(self.weights, input_pattern)\n",
        "      weight_sum = np.sum(self.weights, axis = 1)\n",
        "      activation = response / weight_sum\n",
        "      category = np.argmax(activation)\n",
        "\n",
        "      match = np.sum(np.minimum(self.weights[category], input_pattern))\n",
        "      normalized_match = match / np.sum(input_pattern)\n",
        "      if normalized_match > self.vigilance:\n",
        "        self.weights[category] = np.minimum(self.weights[category], input_pattern)\n",
        "        break\n",
        "      else:\n",
        "        self.weights = np.vstack([self.weights, input_pattern])\n",
        "        self.num_categories += 1\n",
        "\n",
        "  def classify(self, input_pattern):\n",
        "      response = np.dot(self.weights, input_pattern)\n",
        "      weight_sum = np.sum(self.weights, axis = 1)\n",
        "      activation = response / weight_sum\n",
        "      category = np.argmax(activation)\n",
        "      return category, activation[category]\n",
        "\n",
        "\n",
        "network = ART1(4, 3, 0.7)\n",
        "\n",
        "network.learn(np.array([1, 0, 1, 0]))\n",
        "network.learn(np.array([0, 1, 0, 1]))\n",
        "network.learn(np.array([1, 1, 0, 0]))\n",
        "\n",
        "print(network.classify(np.array([1, 0, 0, 0])))\n",
        "print(network.classify(np.array([0, 1, 1, 0])))"
      ]
    },
    {
      "cell_type": "code",
      "source": [],
      "metadata": {
        "id": "chzdCL6BXDqW"
      },
      "execution_count": null,
      "outputs": []
    }
  ]
}